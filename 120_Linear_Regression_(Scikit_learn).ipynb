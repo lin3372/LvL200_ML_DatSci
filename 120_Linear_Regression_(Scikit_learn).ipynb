{
  "nbformat": 4,
  "nbformat_minor": 0,
  "metadata": {
    "colab": {
      "name": "120_Linear_Regression (Scikit-learn).ipynb",
      "provenance": [],
      "authorship_tag": "ABX9TyP9a6SCL10x8/HGPyB0SeFL",
      "include_colab_link": true
    },
    "kernelspec": {
      "name": "python3",
      "display_name": "Python 3"
    },
    "language_info": {
      "name": "python"
    }
  },
  "cells": [
    {
      "cell_type": "markdown",
      "metadata": {
        "id": "view-in-github",
        "colab_type": "text"
      },
      "source": [
        "<a href=\"https://colab.research.google.com/github/lin3372/LvL200_ML_DatSci/blob/main/120_Linear_Regression_(Scikit_learn).ipynb\" target=\"_parent\"><img src=\"https://colab.research.google.com/assets/colab-badge.svg\" alt=\"Open In Colab\"/></a>"
      ]
    },
    {
      "cell_type": "markdown",
      "metadata": {
        "id": "MWeSEa9ernWk"
      },
      "source": [
        "[Day13-Scikit-learn介紹(5)_ Linear-Regression](https://ithelp.ithome.com.tw/articles/10206114)"
      ]
    },
    {
      "cell_type": "code",
      "metadata": {
        "id": "q2wcO8TyrV13"
      },
      "source": [
        "import matplotlib.pyplot as plt\n",
        "import seaborn as sns; sns.set()\n",
        "import numpy as np"
      ],
      "execution_count": 1,
      "outputs": []
    },
    {
      "cell_type": "markdown",
      "metadata": {
        "id": "6hAWzQwetrP7"
      },
      "source": [
        "## Linear Regression with scikit-learn"
      ]
    },
    {
      "cell_type": "code",
      "metadata": {
        "colab": {
          "base_uri": "https://localhost:8080/",
          "height": 268
        },
        "id": "F87TgqSvr1Fh",
        "outputId": "b4c419ce-de0d-4641-d7c3-98c471eb9498"
      },
      "source": [
        "m = 3\n",
        "x0 = -5\n",
        "xmax = 10\n",
        "nPts=50\n",
        "\n",
        "rng = np.random.RandomState(1)\n",
        "x = xmax * rng.rand(nPts)\n",
        "y = m * x + x0 + rng.randn(nPts)\n",
        "plt.scatter(x, y);"
      ],
      "execution_count": 11,
      "outputs": [
        {
          "output_type": "display_data",
          "data": {
            "image/png": "[encoded data removed]",
            "text/plain": [
              "<Figure size 432x288 with 1 Axes>"
            ]
          },
          "metadata": {
            "needs_background": "light"
          }
        }
      ]
    },
    {
      "cell_type": "code",
      "metadata": {
        "colab": {
          "base_uri": "https://localhost:8080/",
          "height": 268
        },
        "id": "np9p85Zvs5yB",
        "outputId": "ff106d0b-c417-4512-8fc1-a8c215dbb43b"
      },
      "source": [
        "from sklearn.linear_model import LinearRegression\n",
        "model = LinearRegression(fit_intercept=True)\n",
        "\n",
        "model.fit(x[:, np.newaxis], y)\n",
        "\n",
        "xfit = np.linspace(0, 10, 1000)\n",
        "yfit = model.predict(xfit[:, np.newaxis])\n",
        "\n",
        "plt.scatter(x, y)\n",
        "plt.plot(xfit, yfit);"
      ],
      "execution_count": 12,
      "outputs": [
        {
          "output_type": "display_data",
          "data": {
            "image/png": "[encoded data removed]",
            "text/plain": [
              "<Figure size 432x288 with 1 Axes>"
            ]
          },
          "metadata": {
            "needs_background": "light"
          }
        }
      ]
    },
    {
      "cell_type": "code",
      "metadata": {
        "colab": {
          "base_uri": "https://localhost:8080/"
        },
        "id": "F9HCvcuetGyL",
        "outputId": "4a9ce6a6-6d3d-4747-8ad1-f778bee81766"
      },
      "source": [
        "print(f\"Model slope: {model.coef_[0]:.3}\")\n",
        "print(f\"Model intercept: {model.intercept_:.3}\")"
      ],
      "execution_count": 19,
      "outputs": [
        {
          "output_type": "stream",
          "name": "stdout",
          "text": [
            "Model slope: 3.03\n",
            "Model intercept: -5.0\n"
          ]
        }
      ]
    }
  ]
}